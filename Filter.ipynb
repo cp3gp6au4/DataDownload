{
 "cells": [
  {
   "cell_type": "markdown",
   "metadata": {},
   "source": [
    "# **<mark>Filter<mark>**\n",
    "## \"Filter\"腳本能對資料庫DataBase指定欄位的值進行篩選，以精簡資料內容\n",
    "因資料量龐大，儲存空間有限，處理資料也相當耗時，在下載資料前請務必進行資料篩選"
   ]
  },
  {
   "cell_type": "markdown",
   "metadata": {},
   "source": [
    "## 使用說明:\n",
    "1.請將所有<font color=blue>要篩選的資料表DataBase</font>放到<font color=#0099ff>input資料夾</font>內，Filter會將input資料夾內的<font color=#0099ff>所有資料表</font>合併並進行篩選  \n",
    "2.若使用病歷號ID或影像號RIS進行篩選，請上傳在DataDownload本身資料夾，<font color=red>不要</font>放到<font color=#0099ff>input資料夾</font>內  \n",
    "3.篩選結果會存放在<font color=green>output資料夾</font>內，包含<font color=green>篩選後的資料表DataBase</font>以及<font color=green>篩選後的影像清單sorting_list</font>  \n",
    "4.請<font color=violet>注意大小寫</font>  \n",
    "5.關鍵字前後請以<font color=violet>符號 ' or \"</font> 包括  ex.'text' or \"text\"  \n",
    "6.若不確定篩選條件，請先下載<font color=green>影像清單sorting_list</font> ，查看各欄位內容再設定篩選條件\n",
    "    \n",
    "    \n",
    "註1:date的篩選欄位是StudyDate  \n",
    "註2:station篩選的視StationName，各scanner名稱代號對照 ERCT=急診的CT；CT2F=2樓檢查室的CT；VCT=情人湖CT；MR3T=Siemens的3T MR；MR15=Philips的1.5T MR  \n",
    "註3:sequence的篩選欄位是SeriesDescription  \n",
    "註4:description的篩選欄位是PerformedProcedureStepDescription"
   ]
  },
  {
   "cell_type": "markdown",
   "metadata": {},
   "source": [
    "## <font color=red>注意事項:\n",
    "<font color=red>★ 執行篩選前請先以\"DataBase\"腳本建立資料庫  \n",
    "★ 腳本請依序使用以減少錯誤: 以\"DataBase\"腳本建立對應的影像資料庫>>以\"Filter\"腳本進行篩選(以免資料量過於龐大)>>以\"Download\"腳本能進行下載  \n",
    "★ 腳本執行後會紀錄上次的執行內容，若發生錯誤，請找到原始的檔案DataDownload.zip，解壓縮後置換換掉整個DataDownload資料夾(詳細方法請參考操作說明-Servers)  \n",
    "★ 置換DataDownload資料夾前請備份您的重要資料表  \n",
    "★ 腳本產生的檔案中，<font color=violet>資料庫檔案DataBase_xxx</font>是給腳本使用的資料表，而<font color=violet>影像清單sorting_list</font>則是方便給使用者查看影像內容的資料表，\n",
    "    使用腳本時請務必放入正確的檔案  </font>"
   ]
  },
  {
   "cell_type": "markdown",
   "metadata": {},
   "source": [
    "# **<font color=red>腳本使用方法:<p><font color=red>滑鼠選擇要執行的對話框，使對話框左邊顯示<font color=blue>藍色粗邊框<font color=red>後，按下ctrl+enter執行該對話框</font>**"
   ]
  },
  {
   "cell_type": "markdown",
   "metadata": {},
   "source": [
    "# Step 1: 匯入功能包\n",
    "(匯入成功會有提示)"
   ]
  },
  {
   "cell_type": "code",
   "execution_count": 1,
   "metadata": {},
   "outputs": [
    {
     "name": "stdout",
     "output_type": "stream",
     "text": [
      "DEFAULT PARAMETERS IMPROT SCCESS!\n",
      "對話框回報內容: \u001b[31m紅色標示注意事項\u001b[0;0m；\u001b[2;35m亮紫色提示類別\u001b[0;0m；\u001b[2;34m藍色標示input資料夾及\u001b[94minput detail資料內容\u001b[0;0m\u001b[0;0m；\u001b[3;32m綠色標示output資料\u001b[0;0m；粉紅色背景表示程式碼錯誤\n",
      "20220715 17:33:14 PACKAGES IMPORT SUCCESS!\n",
      "請執行下一個步驟\n"
     ]
    }
   ],
   "source": [
    "#Step 1: import packages  (選取本對話框並按下ctrl+enter執行)\n",
    "from utils.Functions import *\n",
    "from utils.get import get_filted_col_by_keys,get_filted_database,get_save_file_name  #2022/7/13 update\n",
    "from utils import *"
   ]
  },
  {
   "cell_type": "markdown",
   "metadata": {},
   "source": [
    "# Step 2: 請先將要篩選的資料表DataBase放到input資料夾中，\n",
    "# 接著在以下對話框中設定要篩選的條件，若該欄位不篩選，請設為預設值ALL\n",
    "(可直接將資料庫csv檔拖曳至左側的input資料夾)  \n",
    "(雙擊對話框可進行編輯)  \n",
    "(執行Step 2對話框後，請確認參數內容，無誤則執行Step 3，參數錯誤請修改並重新執行Step 2)"
   ]
  },
  {
   "cell_type": "code",
   "execution_count": 7,
   "metadata": {},
   "outputs": [
    {
     "name": "stdout",
     "output_type": "stream",
     "text": [
      "資料路徑: \u001b[2;34minput\u001b[0;0m\n",
      "即將建立 \n",
      "['PatientID', 'PatientSex', 'PatientAge', 'StudyDate', 'Modality', 'StationName', 'SeriesDescription', 'PerformedProcedureStepDescription', 'AccessionNumber']\n",
      "=\u001b[2;35m['ID', 'ALL', 'ALL', 'ALL', 'ALL', 'ALL', 'ALL', 'ALL', 'ALL']\u001b[0;0m \u001b[2;35m\n",
      "filted\u001b[0;0m 的資料庫\n",
      "\u001b[31m請確認上述內容無誤後再執行下一步驟\u001b[0;0m\n"
     ]
    }
   ],
   "source": [
    "#### Step 2: 請設定篩選條件，若該選項無指定條件請指定為預設值ALL，設定完請按下ctrl+enter執行本對話框\n",
    "sex=ALL  #可指定性別  optins={ALL,F,M}\n",
    "age=ALL  #optins={ALL,age,(min,max)}可輸入最小與最大值(必須為整數)  ex.20歲: 20；60-70歲: (60,70)\n",
    "date=ALL  #單日或日期區間*註1  optins={ALL,yyyymmdd,(min,max)}日期格式為8位數字  ex.20220102單日；(20220101,20220112)表示從2022/1/1到2022/1/12\n",
    "modality=ALL  #可指定檢查類型  options={ALL,CT,MR}\n",
    "station=ALL  #可選擇scanner*註2  options={ALL,ERCT,CT2F,VCT,MR3T,MR15}\n",
    "sequence=ALL  #可篩選包含指定關鍵字的序列*註3  ex. 'T1','T2','flair','FLAIR'....\n",
    "description=ALL    #可篩選包含指定關鍵字的影像*註4  ex.'CTA of brain','without Co','w/o Contr','MRA'\n",
    "\n",
    "ID=ALL  #若需指定病歷號請改為CSV   optins={ALL,CSV}\n",
    "RIS=ALL   #若需指定AccessionNumber影像號請改為CSV   optins={ALL,CSV}\n",
    "my_CSV='my_CSV_template_220715.csv'  #若有指定病歷號或RIS，請上傳資料表並指定資料表路徑及欄位名稱\n",
    "column_PatientID='ID'  #若有指定病歷號，請輸入資料表內的病歷號欄位名稱\n",
    "column_RIS='RIS'  #若有指定RIS，請輸入資料表內的RIS欄位名稱\n",
    "\n",
    "\n",
    "#底下幾行不用改\n",
    "filter_keys=[ID,sex,age,date,modality,station,sequence,description,RIS]  #2022/7/15: default新增RIS篩選；將patientID篩選從optional移至開放設定區\n",
    "if ID.upper()==CSV:\n",
    "    filter_keys[0]=column_PatientID\n",
    "if RIS.upper()==CSV:\n",
    "    filter_keys[-1]=column_RIS\n",
    "print(check_DB.format(BlueLight.format(input_path),'\\n{}\\n={}'.format(filter_cols,PurpleLight.format(filter_keys)),PurpleLight.format('\\nfilted')),Red.format(check_above),sep='\\n')"
   ]
  },
  {
   "cell_type": "markdown",
   "metadata": {},
   "source": [
    "# Step 3: 篩選資料庫，並產生filted_DataBase以及filted_sorting_list\n",
    "(執行Step 3對話框後會出現進度條，請務必等待進度完成，結束後會有 <font color=red>執行結束!</font> 的提示)"
   ]
  },
  {
   "cell_type": "code",
   "execution_count": 9,
   "metadata": {},
   "outputs": [
    {
     "name": "stdout",
     "output_type": "stream",
     "text": [
      "saving: output/filted_DataBase-20220715173549.csv output/filted_sorting_list-20220715173549.csv 請稍等...\n",
      "\u001b[94minput資料表=['input/DataBase_anonymous_202107-20220713162204.csv', 'input/DataBase_test.csv']\u001b[0;0m\n",
      "\u001b[94m資料表大小: (162, 38)\u001b[0;0m\n",
      "(1, 38) \u001b[3;32moutput/filted_DataBase-20220715173549.csv\u001b[0;0m saved\n",
      "filted DataBase已建立\n",
      "sorting_list已建立: (1, 13) \u001b[3;32moutput/filted_sorting_list-20220715173549.csv\u001b[0;0m saved \u001b[31m\n",
      "執行結束!\u001b[0;0m\n"
     ]
    }
   ],
   "source": [
    "#Step 3: filter input DataBase by selected conditions, and create filted DataBase and filted sorting_list  (選取本對話框並按下ctrl+enter執行)\n",
    "#用CSV篩選patient病歷號 & RIS影像號的功能之相關判讀  (2022/7/15新增)\n",
    "if ID.upper()==CSV:\n",
    "    input_CSV=pd.read_csv(my_CSV,dtype='str').fillna('')\n",
    "    patient=list(input_CSV[column_PatientID])\n",
    "if RIS.upper()==CSV:\n",
    "    input_CSV=pd.read_csv(my_CSV,dtype='str').fillna('')\n",
    "    accession=list(input_CSV[column_RIS])\n",
    "\n",
    "#optional/Advanced settings:\n",
    "# input_path='input'  #[optional]輸入路徑，篩選前資料庫DataBase的資料表的存放位置\n",
    "# patient='175623'  #[Advanced]=ID可指定病歷號，可以單一病歷號或以list的形式輸入  ex. 12345 or '12345' or [14267,'51238']  #2022/7/15: 將patientID篩選從optional移至開放設定區\n",
    "# accession='19CC20531X01'  #[Advanced]可指定AccessionNumber影像號，可以單一影像號str或以list of str的形式輸入  ex. '19CC20531X01' or ['19CC20531X01','RIS2']  #2022/7/15新增RIS篩選\n",
    "Same=False  #[optional]if need, change Same to 'True' to get accurate samples with assigned keys(Same是針對文字類型的欄位篩選，設定False為\"包含\"關鍵字，設定True則是與關鍵字\"完全相同\"的資料)\n",
    "\n",
    "#define output file names:  #2022/7/13 update\n",
    "save_filted_csv_name,save_filted_sorting_csv_name=get_save_file_name(output_path,Prefix='filted_')\n",
    "print('saving:',save_filted_csv_name,save_filted_sorting_csv_name,waiting)\n",
    "   \n",
    "#建立篩選條件列表: \n",
    "# filter_cols=['PatientID','PatientSex','PatientAge','StudyDate','Modality','StationName','SeriesDescription','PerformedProcedureStepDescription','AccessionNumber']  #若變更DB欄位或新增篩選條件須重新定義filter_cols\n",
    "filter_keys=[patient,sex,age,date,modality,station,sequence,description,accession]  #若調整參數內容須重新抓filter_keys\n",
    "filted_col,filted_key=get_filted_col_by_keys(filter_cols,filter_keys)\n",
    "\n",
    "#讀取篩選前資料庫並篩選資料庫filted_DataBase:\n",
    "DB_path_list=GetInputDir(input_path,filetype='.csv')\n",
    "for d in DB_path_list:   #jupyter會自動建立checkpoints導致混亂QQ\n",
    "    if 'ipynb_checkpoints' in d:\n",
    "        DB_path_list.remove(d)\n",
    "print(Blue.format('input資料表={}'.format(DB_path_list)))\n",
    "DB=GetConcatedDF(DB_path_list,cols=False,replace_value='NotInDict',ignore_missing=True,replacer='')\n",
    "print(Blue.format('資料表大小: {}'.format(DB.shape)))\n",
    "# DB=test_DB  #test\n",
    "filted_DB=get_filted_database(Input_DB=DB,Filted_key=filted_key,Filted_col=filted_col,Save_csv_name=save_filted_csv_name,Same=Same)  #篩選DB\n",
    "print(built.format('filted DataBase'))\n",
    "\n",
    "#建立filted_sorting_list:\n",
    "Input_DB=filted_DB\n",
    "Output_sorting_list=GetUnique(Input_DB,df_sorting)\n",
    "Output_sorting_list.to_csv(save_filted_sorting_csv_name,index=0)\n",
    "print(save.format(sort_build+': {} {}'.format(Output_sorting_list.shape,GreenItalic.format(save_filted_sorting_csv_name))),Red.format(done))"
   ]
  },
  {
   "cell_type": "markdown",
   "metadata": {},
   "source": [
    "# Step 4: 請至<font color=green>output資料夾</font>查看結果"
   ]
  },
  {
   "cell_type": "markdown",
   "metadata": {},
   "source": [
    "## \\~底下沒東西了~"
   ]
  },
  {
   "cell_type": "markdown",
   "metadata": {},
   "source": [
    "<font size=\"4\">版本資訊: <font size=\"3\">ver.220715</font><br><font size=\"2\">\n",
    "    2022/7/15:  \n",
    "    1.調整說明文字及順序  \n",
    "    2.新增AccessionNumber篩選功能  \n",
    "    3.新增以CSV內的ID和RIS篩選patientID及AccessionNumber的功能\n",
    "    <br>\n",
    "</font> "
   ]
  }
 ],
 "metadata": {
  "kernelspec": {
   "display_name": "Python 3",
   "language": "python",
   "name": "python3"
  },
  "language_info": {
   "codemirror_mode": {
    "name": "ipython",
    "version": 3
   },
   "file_extension": ".py",
   "mimetype": "text/x-python",
   "name": "python",
   "nbconvert_exporter": "python",
   "pygments_lexer": "ipython3",
   "version": "3.6.8"
  }
 },
 "nbformat": 4,
 "nbformat_minor": 4
}
